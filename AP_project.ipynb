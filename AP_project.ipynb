{
  "cells": [
    {
      "cell_type": "markdown",
      "metadata": {
        "id": "rODWPYJMXMBE"
      },
      "source": [
        "# Setup"
      ]
    },
    {
      "cell_type": "code",
      "execution_count": null,
      "metadata": {
        "id": "mpHBXF00Nxsq"
      },
      "outputs": [],
      "source": [
        "# os.environ['LC_ALL'] = 'C.UTF-8'\n",
        "# os.environ['LANG'] = 'C.UTF-8'"
      ]
    },
    {
      "cell_type": "code",
      "execution_count": null,
      "metadata": {
        "colab": {
          "base_uri": "https://localhost:8080/"
        },
        "id": "DkfH2IUmOPmF",
        "outputId": "caf81d68-787e-4e66-d770-b10d950272aa"
      },
      "outputs": [],
      "source": [
        "!pip install pydub"
      ]
    },
    {
      "cell_type": "markdown",
      "metadata": {
        "id": "8Suyvx1VObfT"
      },
      "source": [
        "Get MusicGen git repo"
      ]
    },
    {
      "cell_type": "code",
      "execution_count": null,
      "metadata": {
        "colab": {
          "base_uri": "https://localhost:8080/"
        },
        "id": "pfYhfRM-ORkN",
        "outputId": "8f043e35-51d5-4b58-92e3-1132cc071979"
      },
      "outputs": [],
      "source": [
        "!python3 -m pip install -U git+https://github.com/facebookresearch/audiocraft#egg=audiocraft"
      ]
    },
    {
      "cell_type": "markdown",
      "metadata": {
        "id": "D_RjCLR9OpB_"
      },
      "source": [
        "Access to Google Drive"
      ]
    },
    {
      "cell_type": "code",
      "execution_count": null,
      "metadata": {
        "colab": {
          "base_uri": "https://localhost:8080/"
        },
        "id": "QO-Z5uLwOgy7",
        "outputId": "aa69b06a-161a-4ffc-9318-415fd0c96d34"
      },
      "outputs": [],
      "source": [
        "from google.colab import drive\n",
        "drive.mount('/content/drive')"
      ]
    },
    {
      "cell_type": "markdown",
      "metadata": {
        "id": "kDdH1mMSOstW"
      },
      "source": [
        "Imports"
      ]
    },
    {
      "cell_type": "code",
      "execution_count": null,
      "metadata": {
        "id": "TzPfKV6POt7N"
      },
      "outputs": [],
      "source": [
        "import os\n",
        "import random\n",
        "from pydub import AudioSegment\n",
        "\n",
        "import soundfile as sf\n",
        "import numpy as np"
      ]
    },
    {
      "cell_type": "markdown",
      "metadata": {
        "id": "7Br0j5wuXD4Z"
      },
      "source": [
        "# Data Processing"
      ]
    },
    {
      "cell_type": "markdown",
      "metadata": {
        "id": "fLlslXZaO3wn"
      },
      "source": [
        "Create auxiliary folders if necessary"
      ]
    },
    {
      "cell_type": "code",
      "execution_count": null,
      "metadata": {
        "colab": {
          "base_uri": "https://localhost:8080/"
        },
        "id": "Q-1Ktb-qO3bA",
        "outputId": "6fa7b465-9630-46f4-975a-b1c490583306"
      },
      "outputs": [],
      "source": [
        "new_folders = [\"raw\", \"output\", \"musicgen_trainer_dir\"]\n",
        "\n",
        "for folder_name in new_folders:\n",
        "  if not os.path.exists(folder_name):\n",
        "    os.makedirs(folder_name)\n",
        "    print(f\"'{folder_name}'folder successfully created!\")"
      ]
    },
    {
      "cell_type": "markdown",
      "metadata": {
        "id": "XVMmX1dJH0f5"
      },
      "source": [
        "Create necessary folders in Drive"
      ]
    },
    {
      "cell_type": "code",
      "execution_count": null,
      "metadata": {
        "colab": {
          "base_uri": "https://localhost:8080/"
        },
        "id": "1oL13I7EG3ZA",
        "outputId": "4d74f798-f4ae-4566-a35e-bcdfbd925674"
      },
      "outputs": [],
      "source": [
        "new_folders = [\"raw\", \"output\", \"results\"]\n",
        "\n",
        "for folder_name in new_folders:\n",
        "  file_path = os.path.join(\"/content/drive/MyDrive/ap-project/\", folder_name)\n",
        "  if not os.path.exists(file_path):\n",
        "    os.makedirs(file_path)\n",
        "    print(f\"'{folder_name}'folder successfully created!\")"
      ]
    },
    {
      "cell_type": "code",
      "execution_count": null,
      "metadata": {
        "colab": {
          "base_uri": "https://localhost:8080/"
        },
        "id": "-NzyPIETHUnK",
        "outputId": "11d12d90-061e-4c95-c2f2-49e7963cf5a2"
      },
      "outputs": [],
      "source": [
        "raw = \"/content/drive/MyDrive/ap-project/raw/desgarrada\"\n",
        "if not os.path.exists(raw):\n",
        "   os.makedirs(raw)\n",
        "   print(f\"'{raw}'folder successfully created!\")\n",
        "\n",
        "output = \"/content/drive/MyDrive/ap-project/output/desgarrada\"\n",
        "if not os.path.exists(output):\n",
        "   os.makedirs(output)\n",
        "   print(f\"'{output}'folder successfully created!\")"
      ]
    },
    {
      "cell_type": "markdown",
      "metadata": {
        "id": "KGbAibV8Ro4g"
      },
      "source": [
        "Function to clean a directory"
      ]
    },
    {
      "cell_type": "code",
      "execution_count": null,
      "metadata": {
        "id": "62DxR4N2PE0f"
      },
      "outputs": [],
      "source": [
        "def clean_dir(dir_path):\n",
        "  for file_name in os.listdir(dir_path):\n",
        "    file_path = os.path.join(dir_path, file_name)\n",
        "    if os.path.isfile(file_path):\n",
        "      os.remove(file_path)\n",
        "      print(f\"File {file_path} was deleted\")"
      ]
    },
    {
      "cell_type": "markdown",
      "metadata": {
        "id": "jbU2dYB6Rp0L"
      },
      "source": [
        "Clean output directory"
      ]
    },
    {
      "cell_type": "code",
      "execution_count": null,
      "metadata": {
        "colab": {
          "base_uri": "https://localhost:8080/"
        },
        "id": "nz1EJePSQtot",
        "outputId": "75903323-b2ea-433c-fc16-91779c436c9d"
      },
      "outputs": [],
      "source": [
        "clean_dir('/content/drive/MyDrive/ap-project/output')"
      ]
    },
    {
      "cell_type": "markdown",
      "metadata": {
        "id": "6xGCvqBjpmrX"
      },
      "source": [
        "In case raw and output are not in Drive"
      ]
    },
    {
      "cell_type": "code",
      "execution_count": null,
      "metadata": {
        "id": "Xj_mppZWZLO9"
      },
      "outputs": [],
      "source": [
        "!cp -r /content/raw/* \"/content/drive/MyDrive/ap-project/raw\""
      ]
    },
    {
      "cell_type": "code",
      "execution_count": null,
      "metadata": {
        "id": "BrO1yT08fmHm"
      },
      "outputs": [],
      "source": [
        "!cp -r /content/output/* \"/content/drive/MyDrive/ap-project/output\""
      ]
    },
    {
      "cell_type": "markdown",
      "metadata": {
        "id": "NTamceiMp-90"
      },
      "source": [
        "If you upload more audios to raw's folder, clean output's folder before running process_audios function"
      ]
    },
    {
      "cell_type": "code",
      "execution_count": null,
      "metadata": {
        "id": "GVv8ZPrep5gA"
      },
      "outputs": [],
      "source": [
        "clean_dir('/content/drive/MyDrive/ap-project/output')"
      ]
    },
    {
      "cell_type": "markdown",
      "metadata": {
        "id": "LEm1t9gDRsf-"
      },
      "source": [
        "Function to process audio data: segments audio in 30 seconds each and save .txt labels and set sample rate to 32000 Hz"
      ]
    },
    {
      "cell_type": "code",
      "execution_count": null,
      "metadata": {
        "id": "xc6HmesGRJcE"
      },
      "outputs": [],
      "source": [
        "def process_audios(file_path, output_dir, start_segment, segment_length=30): # 30 seconds\n",
        "  # Load audio\n",
        "  audio = AudioSegment.from_file(file_path)\n",
        "\n",
        "  # Extract file name for .txt\n",
        "  file_name = os.path.splitext(os.path.basename(file_path))[0]\n",
        "\n",
        "  # Convert segment length to ms\n",
        "  segment_length_ms = segment_length * 1000\n",
        "\n",
        "  # Set the sample rate to 32000 Hz\n",
        "  audio = audio.set_frame_rate(32000)\n",
        "\n",
        "  # Calculate number of segments\n",
        "  num_segments = (len(audio) + segment_length_ms - 1) // segment_length_ms\n",
        "\n",
        "  for i in range(num_segments):\n",
        "    start_time = i * segment_length_ms\n",
        "\n",
        "    # Last segment\n",
        "    if i == num_segments - 1:\n",
        "      start_time = len(audio) - segment_length_ms\n",
        "\n",
        "    end_time = start_time + segment_length_ms\n",
        "\n",
        "    # Get segment\n",
        "    segment = audio[start_time:end_time]\n",
        "    print(f\"i: {i} file: {file_path} - segment_{start_segment:03d}.wav\")\n",
        "\n",
        "    # Save segment\n",
        "    segment.export(os.path.join(output_dir, f'segment_{start_segment:03d}.wav'), format='wav')\n",
        "\n",
        "    # Save label\n",
        "    with open(os.path.join(output_dir, f'segment_{start_segment:03d}.txt'), 'w') as f:\n",
        "      f.write(file_name)\n",
        "    start_segment +=1\n",
        "\n",
        "  return start_segment"
      ]
    },
    {
      "cell_type": "markdown",
      "metadata": {
        "id": "FtjypTTUT8Em"
      },
      "source": [
        "Process all audios"
      ]
    },
    {
      "cell_type": "code",
      "execution_count": null,
      "metadata": {
        "colab": {
          "base_uri": "https://localhost:8080/"
        },
        "id": "acyIFyUKT8WE",
        "outputId": "4b725e54-c627-446e-9c8a-65c3fa0655d5"
      },
      "outputs": [],
      "source": [
        "output_dir = '/content/drive/MyDrive/ap-project/output/desgarrada'\n",
        "samples_dir = '/content/drive/MyDrive/ap-project/raw/desgarrada'\n",
        "\n",
        "if not os.path.exists(output_dir):\n",
        "  os.makedirs(output_dir)\n",
        "\n",
        "start_segment = 0\n",
        "\n",
        "for file_name in os.listdir(samples_dir):\n",
        "  print(file_name)\n",
        "  if file_name.endswith('.wav') or file_name.endswith('.mp3'):\n",
        "    file_path = os.path.join(samples_dir, file_name)\n",
        "    current_segment = process_audios(file_path, output_dir, start_segment, segment_length=30)\n",
        "    start_segment = current_segment\n"
      ]
    },
    {
      "cell_type": "code",
      "execution_count": null,
      "metadata": {
        "colab": {
          "base_uri": "https://localhost:8080/"
        },
        "id": "c0ozieYwUMVM",
        "outputId": "ba707d3e-6ad0-48a3-89ac-fe9dd4bd8da9"
      },
      "outputs": [],
      "source": [
        "import librosa\n",
        "\n",
        "output_dir = \"/content/drive/MyDrive/ap-project/output/desgarrada\"\n",
        "\n",
        "for file_name in os.listdir(output_dir):\n",
        "  if file_name.endswith('.wav'):\n",
        "    file_path = os.path.join(output_dir, file_name)\n",
        "    audio, sample_rate = librosa.load(file_path, sr=None)\n",
        "\n",
        "    if audio.shape[0] == 32000 * 30:\n",
        "      print(f\"{file_name} has the correct shape: {audio.shape[0]}\")\n",
        "    else:\n",
        "      print(f\"{file_name} does not have the correct shape: {audio.shape[0]}\")\n"
      ]
    },
    {
      "cell_type": "markdown",
      "metadata": {
        "id": "6cUnnNITV0tP"
      },
      "source": [
        "# Training process"
      ]
    },
    {
      "cell_type": "markdown",
      "metadata": {
        "id": "l9CcffDhWUdz"
      },
      "source": [
        "Get MusicGen Trainer"
      ]
    },
    {
      "cell_type": "code",
      "execution_count": null,
      "metadata": {
        "colab": {
          "base_uri": "https://localhost:8080/"
        },
        "id": "5nhaWJdLVGIA",
        "outputId": "2e8abb18-07d1-41dc-ee37-ba38172e86f5"
      },
      "outputs": [],
      "source": [
        "!cd \"/content/musicgen_trainer_dir\" && git clone https://github.com/chavinlo/musicgen_trainer.git"
      ]
    },
    {
      "cell_type": "markdown",
      "metadata": {
        "id": "kCNsM0TmIBh0"
      },
      "source": [
        "Install requirement"
      ]
    },
    {
      "cell_type": "code",
      "execution_count": null,
      "metadata": {
        "colab": {
          "base_uri": "https://localhost:8080/"
        },
        "id": "qnuJ8lCYqsG6",
        "outputId": "e9be7945-d877-4071-d702-28a84ac77ae9"
      },
      "outputs": [],
      "source": [
        "!pip install wandb"
      ]
    },
    {
      "cell_type": "code",
      "execution_count": null,
      "metadata": {
        "id": "oAobKEGcwmLF"
      },
      "outputs": [],
      "source": [
        "import wandb"
      ]
    },
    {
      "cell_type": "code",
      "execution_count": null,
      "metadata": {
        "colab": {
          "base_uri": "https://localhost:8080/"
        },
        "id": "8c7OQPJMWA84",
        "outputId": "cbd488b0-6530-4c8a-adac-338c7ccf5746"
      },
      "outputs": [],
      "source": [
        "!python /content/musicgen_trainer_dir/musicgen_trainer/run.py --dataset_path /content/drive/MyDrive/ap-project/output/desgarrada --epochs 25 --batch_size 2"
      ]
    },
    {
      "cell_type": "code",
      "execution_count": null,
      "metadata": {
        "id": "bQ_aGOkHWNMx"
      },
      "outputs": [],
      "source": [
        "from audiocraft.models import musicgen\n",
        "from audiocraft.utils.notebook import display_audio\n",
        "import torch"
      ]
    },
    {
      "cell_type": "markdown",
      "metadata": {
        "id": "tC2ap9A8W9go"
      },
      "source": [
        "Load model"
      ]
    },
    {
      "cell_type": "code",
      "execution_count": null,
      "metadata": {
        "colab": {
          "base_uri": "https://localhost:8080/"
        },
        "id": "eQ2vmqhQWUDh",
        "outputId": "a173eccc-3d0b-4158-a171-06ac0c2c32c9"
      },
      "outputs": [],
      "source": [
        "model = musicgen.MusicGen.get_pretrained('small', device='cuda')\n",
        "model.set_generation_params(duration=8)\n",
        "model.lm.load_state_dict(torch.load('models/lm_final.pt'))"
      ]
    },
    {
      "cell_type": "markdown",
      "metadata": {
        "id": "cWLfbhuCW6j1"
      },
      "source": [
        "Prompt"
      ]
    },
    {
      "cell_type": "markdown",
      "metadata": {
        "id": "6oH8AT2e-GSq"
      },
      "source": [
        "Clean results folder if necessary"
      ]
    },
    {
      "cell_type": "code",
      "execution_count": null,
      "metadata": {
        "colab": {
          "base_uri": "https://localhost:8080/"
        },
        "id": "Yxi8Bn3e-C27",
        "outputId": "36f75a03-b088-4a61-c713-1f11f61fee8c"
      },
      "outputs": [],
      "source": [
        "clean_dir(\"/content/drive/MyDrive/ap-project/results\")"
      ]
    },
    {
      "cell_type": "code",
      "execution_count": null,
      "metadata": {
        "colab": {
          "base_uri": "https://localhost:8080/",
          "height": 93
        },
        "id": "fCor6b6aWtKQ",
        "outputId": "3bb04257-2898-4fd9-bcfb-a0e685afdd3c"
      },
      "outputs": [],
      "source": [
        "res = model.generate([\n",
        "    'desgarrada'\n",
        "],\n",
        "  progress=True)\n",
        "\n",
        "sample_rate = 32000\n",
        "\n",
        "audio_array = res.cpu().numpy()\n",
        "audio_array = (audio_array * 32767).astype('int16')\n",
        "\n",
        "audio_segment = AudioSegment(\n",
        "    audio_array.tobytes(),\n",
        "    frame_rate=sample_rate,\n",
        "    sample_width=audio_array.dtype.itemsize,\n",
        "    channels=1\n",
        ")\n",
        "\n",
        "output_dir = \"/content/drive/MyDrive/ap-project/results\"\n",
        "\n",
        "existing_files = [f for f in os.listdir(output_dir) if f.startswith(\"audio\") and f.endswith(\".mp3\")]\n",
        "existing_numbers = [int(f[5:-4]) for f in existing_files if f[5:-4].isdigit()]\n",
        "next_number = max(existing_numbers, default=0) + 1\n",
        "\n",
        "output_path = os.path.join(output_dir, f\"audio{next_number}.wav\")\n",
        "\n",
        "audio_segment.export(output_path, format=\"wav\")\n",
        "\n",
        "print(f\"Audio saved at '{output_path}'\")\n",
        "\n",
        "display_audio(res, 32000)"
      ]
    }
  ],
  "metadata": {
    "accelerator": "GPU",
    "colab": {
      "gpuType": "T4",
      "provenance": []
    },
    "kernelspec": {
      "display_name": "Python 3",
      "name": "python3"
    },
    "language_info": {
      "name": "python"
    }
  },
  "nbformat": 4,
  "nbformat_minor": 0
}
